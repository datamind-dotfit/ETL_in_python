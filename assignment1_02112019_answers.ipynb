{
 "cells": [
  {
   "cell_type": "markdown",
   "metadata": {},
   "source": [
    "# Python for data science - Part 1: Reading & writing\n",
    "Welcome to python for data science part 1. Because data science and analytics start with data, and getting data is always a challenge, this notebook aims to help you develop some data handling skills & tricks using Python.\n",
    "\n",
    "---\n",
    "\n",
    "### Download data\n",
    "To start off, let's use this rather simplistic command to download some data. You can just execute the cell below."
   ]
  },
  {
   "cell_type": "code",
   "execution_count": null,
   "metadata": {},
   "outputs": [],
   "source": [
    "! wget https://github.com/datamind-dotfit/python_for_data_science/raw/master/ex_1/file_1.txt https://github.com/datamind-dotfit/python_for_data_science/raw/master/ex_1/file_2.txt https://github.com/datamind-dotfit/python_for_data_science/raw/master/ex_1/file_3.txt https://github.com/datamind-dotfit/python_for_data_science/raw/master/ex_1/file_4.txt https://github.com/datamind-dotfit/python_for_data_science/raw/master/ex_1/file_5.txt https://github.com/datamind-dotfit/python_for_data_science/raw/master/ex_1/file_6.txt https://github.com/datamind-dotfit/python_for_data_science/raw/master/ex_1/file_7.txt https://github.com/datamind-dotfit/python_for_data_science/raw/master/ex_1/file_8.txt    "
   ]
  },
  {
   "cell_type": "markdown",
   "metadata": {},
   "source": [
    "---\n",
    "## Opening a single file\n",
    "In Python, there is no need for importing external library to read and write files. Python provides built-in functions for creating, writing and reading files. \n",
    "\n",
    "To open a single file in Python we can use the **open** function. The open function accepts different argument (parameters that you pass to a function). Let's first use the **! ls** command to execute a shell command that lists all files in the current working directory. "
   ]
  },
  {
   "cell_type": "code",
   "execution_count": 29,
   "metadata": {},
   "outputs": [
    {
     "name": "stdout",
     "output_type": "stream",
     "text": [
      "\u001b[34mdata\u001b[m\u001b[m                    file_2.txt              file_6.txt\r\n",
      "ex1_data_handling.ipynb file_3.txt              file_7.txt\r\n",
      "ex2_pandas.ipynb        file_4.txt              file_8.txt\r\n",
      "file_1.txt              file_5.txt\r\n"
     ]
    }
   ],
   "source": [
    "! ls"
   ]
  },
  {
   "cell_type": "markdown",
   "metadata": {},
   "source": [
    "It appears that we have a bunch of files named file_1 to file_8, and looking at the extension they are all .text files. Let's see if we can use the **open()** function to open one of the files.\n",
    "\n",
    "**Question:**\n",
    "- Open a .txt file from the working directory using the open() function and assign this to the variable **f**.\n",
    "- What does the mode argument in open mean? What options do you have and when would you use them?\n",
    "- Try to print out the variable **f** using the **print()** function, what do you see?"
   ]
  },
  {
   "cell_type": "code",
   "execution_count": 56,
   "metadata": {},
   "outputs": [
    {
     "name": "stdout",
     "output_type": "stream",
     "text": [
      "<_io.TextIOWrapper name='file_1.txt' mode='r' encoding='UTF-8'>\n"
     ]
    }
   ],
   "source": [
    "# The file mode specifies what type of stream to open\n",
    "# File modes: https://www.guru99.com/reading-and-writing-files-in-python.html#5\n",
    "f = open('file_1.txt', 'r')\n",
    "\n",
    "# Printing F results in an IO wrapper (file object)\n",
    "print(f)"
   ]
  },
  {
   "cell_type": "markdown",
   "metadata": {},
   "source": [
    "---\n",
    "### The file object\n",
    "So we can read in a file using **open()**, but Python stores this as a file object. Variables in Python are objects, and objects have properties and functions. This might sound confusing but it's actually really simple.\n",
    "<br><br>\n",
    "Our file object \"f\" for instance, has the function *read* which is part of the object. This means if we call the **read()** function on the object, it will read the file contents.\n",
    "\n",
    "Remember that we can call methods on objects by using the dot annotation. So for instance using the file object, we may access any function or property of this object by writing **f.read()**.\n",
    "\n",
    "**Note**: reading consumes the file, so it might be wise to put the open and read in the same cell if you want to experiment using different functions.\n",
    "\n",
    "\n",
    "**Question:**\n",
    "- Open a text file using **open()**\n",
    "- Print its contents\n",
    "- What is the difference between the read and readlines function?"
   ]
  },
  {
   "cell_type": "code",
   "execution_count": null,
   "metadata": {},
   "outputs": [],
   "source": [
    "### Your solution, approximately 4 lines of code ###\n",
    "\n",
    "# Print contents\n",
    "f = open('file_1.txt', 'r')\n",
    "print(f.read())\n",
    "\n",
    "# Readlines returns a list of rows, read returns the entire contents as a string.\n",
    "f = open('file_1.txt', 'r')\n",
    "print(f.readlines())"
   ]
  },
  {
   "cell_type": "markdown",
   "metadata": {},
   "source": [
    "---\n",
    "### Writing data to a file\n",
    "We may also use the **open()** function to create a new file to write output to. We only have to change the mode to something that allows us to write instead of read.\n",
    "\n",
    "**Question:**\n",
    "- Use the **open()** function to create a new file called \"output_file.txt\", make sure we can write to it.\n",
    "- Create a string that you will insert into the file\n",
    "- Insert the string in the file\n",
    "- Before you can view the result you'll have to close the filestream\n",
    "- Verify that your output file contains the string\n"
   ]
  },
  {
   "cell_type": "code",
   "execution_count": null,
   "metadata": {},
   "outputs": [],
   "source": [
    "### Your solution, approximately 4 lines of code ###"
   ]
  },
  {
   "cell_type": "code",
   "execution_count": 44,
   "metadata": {},
   "outputs": [],
   "source": [
    "output = open('output_file.txt', 'w')\n",
    "output_string = 'This should go into'\n",
    "output.write(output_string)\n",
    "output.close()"
   ]
  },
  {
   "cell_type": "markdown",
   "metadata": {},
   "source": [
    "---\n",
    "# Python for data science - part 2: Merging files\n",
    "In practice, it often happens that data is periodically dumped on a certain location. This could be a network disk, your local computer, a data lake, a blob storage, e-mail or an FTP server. \n",
    "\n",
    "<br>If you're lucky the data has the same format across files, but it divided into parts. In this part we'll use python file object to read in multiple files and write the contents to a single output file.\n",
    "\n",
    "Up to now you've learned how to open a single file for reading and writing. Combine this skill with some python basics to merge all the separate files into a single output file.\n",
    "\n",
    "**Question**:\n",
    "- Loop over all of the .txt files and store them in a single output file.\n",
    "\n",
    "<br>\n",
    "\n",
    "**Bonus**:\n",
    "- Record the number of rows in each file, and automatically check if the single output file rows match the sum of the rows in each file."
   ]
  },
  {
   "cell_type": "code",
   "execution_count": 55,
   "metadata": {},
   "outputs": [],
   "source": [
    "## Variables\n",
    "OUTPUT_FILENAME = 'output_file.txt'\n",
    "INPUT_FILENAME = 'file_{}.txt'"
   ]
  },
  {
   "cell_type": "code",
   "execution_count": 54,
   "metadata": {},
   "outputs": [],
   "source": [
    "## Solution 0 without using With\n",
    "output_file = open(OUTPUT_FILENAME, 'w')\n",
    "for i in range(1,9):\n",
    "    f = open(INPUT_FILENAME.format(i), 'r')\n",
    "    output_file.write(f.read())\n",
    "\n",
    "output_file.close()"
   ]
  },
  {
   "cell_type": "code",
   "execution_count": 48,
   "metadata": {},
   "outputs": [],
   "source": [
    "## Solution using With\n",
    "with open(OUTPUT_FILENAME, 'w') as output:\n",
    "    for i in range(1,9):\n",
    "        with open(INPUT_FILENAME.format(i), 'r') as f:\n",
    "            output.write(f.read())"
   ]
  },
  {
   "cell_type": "code",
   "execution_count": 9,
   "metadata": {},
   "outputs": [],
   "source": [
    "## Solution 2 using with and list comprehension\n",
    "files = [INPUT_FILENAME.format(x) for x in range(1,9)]\n",
    "\n",
    "with open(OUTPUT_FILENAME, 'w') as output:\n",
    "    for file_name in files:\n",
    "        with open(file_name, 'r') as f:\n",
    "            output.write(f.read())"
   ]
  },
  {
   "cell_type": "code",
   "execution_count": 10,
   "metadata": {},
   "outputs": [],
   "source": [
    "## View result\n",
    "with open(OUTPUT_FILENAME, 'r') as f:\n",
    "    file = f.read()"
   ]
  },
  {
   "cell_type": "code",
   "execution_count": 52,
   "metadata": {},
   "outputs": [
    {
     "name": "stdout",
     "output_type": "stream",
     "text": [
      "True\n"
     ]
    }
   ],
   "source": [
    "## Bonus\n",
    "rows = 0\n",
    "# Solution 1\n",
    "with open(OUTPUT_FILENAME, 'w') as output:\n",
    "    for i in range(1,9):\n",
    "        with open(INPUT_FILENAME.format(i), 'r') as f:\n",
    "            lines = f.readlines()\n",
    "            rows += len(lines)\n",
    "            output.writelines(lines)\n",
    "            \n",
    "with open(OUTPUT_FILENAME, 'r') as f:\n",
    "    lines = len(f.readlines())\n",
    "    \n",
    "print(lines == rows)"
   ]
  },
  {
   "cell_type": "markdown",
   "metadata": {},
   "source": [
    "# Closing notes\n",
    "So now you've learned how the **open()** statement works in python. You're able to merge multiple files together into one single file. In the future you can even use this statement to save more than just text files. The same syntax applies to machine learning models which may be stored as .joblib files. In this case you would open the .joblib file and process the file object using sci-kit learn. We also provide a machine learning training where we deep dive in bringing your model to production."
   ]
  }
 ],
 "metadata": {
  "kernelspec": {
   "display_name": "Python 3",
   "language": "python",
   "name": "python3"
  },
  "language_info": {
   "codemirror_mode": {
    "name": "ipython",
    "version": 3
   },
   "file_extension": ".py",
   "mimetype": "text/x-python",
   "name": "python",
   "nbconvert_exporter": "python",
   "pygments_lexer": "ipython3",
   "version": "3.7.1"
  }
 },
 "nbformat": 4,
 "nbformat_minor": 2
}
