{
  "nbformat": 4,
  "nbformat_minor": 0,
  "metadata": {
    "colab": {
      "name": "assignment2_02112019",
      "provenance": [],
      "collapsed_sections": [],
      "include_colab_link": true
    },
    "kernelspec": {
      "name": "python3",
      "display_name": "Python 3"
    }
  },
  "cells": [
    {
      "cell_type": "markdown",
      "metadata": {
        "id": "view-in-github",
        "colab_type": "text"
      },
      "source": [
        "<a href=\"https://colab.research.google.com/github/basDatamind/ETL-in-Python/blob/master/assignment2_02112019.ipynb\" target=\"_parent\"><img src=\"https://colab.research.google.com/assets/colab-badge.svg\" alt=\"Open In Colab\"/></a>"
      ]
    },
    {
      "cell_type": "markdown",
      "metadata": {
        "id": "e9WEQ6qRFfCt",
        "colab_type": "text"
      },
      "source": [
        "A database in SQLite (.sqlite) format has been prepared for this tutorial. The SQLite database allows us to interact with the data in it just like any other database would, but setting up an environment that can connect to it is much easier. For security and privacy reasons, we unfortunately are not allowed use real ABN AMRO data.\n",
        "\n",
        "The concepts used and skills learned in this training are portable to the ABN AMRO environment, but Teradata/MIND requires a different way of connecting to the database. At the end of the training a notebook will be shared with information on how to connect to the Teradata/MIND environment of ABN AMRO. Connecting is just as easy but requires some time to set up your system, which we do not want to take during this training. "
      ]
    },
    {
      "cell_type": "markdown",
      "metadata": {
        "id": "_YfV6KKOFWmT",
        "colab_type": "text"
      },
      "source": [
        "# Step 1: Connecting"
      ]
    },
    {
      "cell_type": "markdown",
      "metadata": {
        "id": "h0X3r9MfYzY6",
        "colab_type": "text"
      },
      "source": [
        "First, we need to download the database file. It is stored in our public Github repository and can be downloaded by anyone. These Google Colab notebooks let you download files from the internet through the 'wget' bash command. "
      ]
    },
    {
      "cell_type": "code",
      "metadata": {
        "id": "y_7SKHyRFc-8",
        "colab_type": "code",
        "colab": {}
      },
      "source": [
        "! wget https://github.com/basDatamind/ETL-in-Python/blob/master/chinook.db?raw=true -O chinook.db"
      ],
      "execution_count": 0,
      "outputs": []
    },
    {
      "cell_type": "markdown",
      "metadata": {
        "id": "2wDHWgd6Zs8H",
        "colab_type": "text"
      },
      "source": [
        "The database is now stored in the same place this notebook is run, allowing us to refer to it simply by the file name ('chinook.db'). Let's connect to it through the SQLite package. When connecting to Teradata/MIND, this connect() function would take a long list of arguments in order to be able to connect. As mentioned before, after the training we will supply you with some premade code to connect to Teradata/MIND.\n",
        "\n",
        "We call our database by the short name of 'db' in order to be able to use it quickly. You could pick any other name here. "
      ]
    },
    {
      "cell_type": "code",
      "metadata": {
        "id": "1e1p8Ilad875",
        "colab_type": "code",
        "colab": {}
      },
      "source": [
        "import sqlite3"
      ],
      "execution_count": 0,
      "outputs": []
    },
    {
      "cell_type": "code",
      "metadata": {
        "id": "OmzLYwnBd-O_",
        "colab_type": "code",
        "colab": {}
      },
      "source": [
        "db = sqlite3.connect('chinook.db')"
      ],
      "execution_count": 0,
      "outputs": []
    },
    {
      "cell_type": "markdown",
      "metadata": {
        "id": "-pEeFhopBZ5l",
        "colab_type": "text"
      },
      "source": [
        "# Step 2: Querying and the cursor"
      ]
    },
    {
      "cell_type": "markdown",
      "metadata": {
        "id": "MBOqHJbweToA",
        "colab_type": "text"
      },
      "source": [
        "With our database and connection in place, we can start thinking about the content of the database. Let's take a look at what is inside by selecting some rows. \n",
        "\n",
        "Remember that in order to interact with the database (executing queries, fetching rows et cetera), we first need a cursor.\n",
        "\n"
      ]
    },
    {
      "cell_type": "code",
      "metadata": {
        "id": "0TnPWrxafP_l",
        "colab_type": "code",
        "colab": {}
      },
      "source": [
        "cursor = db.cursor()"
      ],
      "execution_count": 0,
      "outputs": []
    },
    {
      "cell_type": "markdown",
      "metadata": {
        "id": "Dk5sGpxnfnhh",
        "colab_type": "text"
      },
      "source": [
        "Take note how the cursor() function is used on our 'db' object - the database we want to use. This guarantees that the cursor knows which database we want to interact with, in case we want use multiple databases.\n",
        "\n",
        "Using the cursor, it is possible to execute a query. Let's select a couple of rows from the table called 'employees'."
      ]
    },
    {
      "cell_type": "code",
      "metadata": {
        "id": "79Ixk0rDgETw",
        "colab_type": "code",
        "colab": {}
      },
      "source": [
        "query = 'select * from employees'\n",
        "cursor.execute(query)"
      ],
      "execution_count": 0,
      "outputs": []
    },
    {
      "cell_type": "markdown",
      "metadata": {
        "id": "XUto2Ujbnwv7",
        "colab_type": "text"
      },
      "source": [
        "The query has been executed, but the results aren't being shown. This is because the cursor is now pointing at the first row, without interacting with it in any further way. We can simply use the cursor's built in iteration options, or store the results in a variable and check them out this way.\n",
        "\n",
        "Below are two ways of doing this. The first starts the cursor at row 0 and ends at the last row, printing each of them as it goes. The second retrieves all rows, stores them in a 'results' variable and then iterates over the rows in that variable. Again it starts at 0 and finishes at the final row."
      ]
    },
    {
      "cell_type": "code",
      "metadata": {
        "id": "oMSC-plQuWui",
        "colab_type": "code",
        "colab": {}
      },
      "source": [
        "for row in cursor:\n",
        "  print(row)"
      ],
      "execution_count": 0,
      "outputs": []
    },
    {
      "cell_type": "code",
      "metadata": {
        "id": "Q5HLursEuQrT",
        "colab_type": "code",
        "colab": {}
      },
      "source": [
        "results = cursor.fetchall()\n",
        "for row in results:\n",
        "  print(row)"
      ],
      "execution_count": 0,
      "outputs": []
    },
    {
      "cell_type": "markdown",
      "metadata": {
        "id": "45uAgZzIAoo2",
        "colab_type": "text"
      },
      "source": [
        "If you execute these two pieces of code after eachother, the second will not produce any output. Think about why this happens and remember that the cursor is a pointer, linked to a row. Its state is saved across code blocks. How can you get the second piece of code to produce the same output as the first?"
      ]
    },
    {
      "cell_type": "code",
      "metadata": {
        "id": "9713tO5oAHxb",
        "colab_type": "code",
        "colab": {}
      },
      "source": [
        "# Write some code here to make both methods output the same result. The first should take the cursor and iterate over it \n",
        "# with a for loop, printing all rows as it goes. The second should fetch all rows in the cursor, then iterate over those\n",
        "# while printing the results. Refer to the code above and add code as required.\n"
      ],
      "execution_count": 0,
      "outputs": []
    },
    {
      "cell_type": "markdown",
      "metadata": {
        "id": "ekHzzmtzbC06",
        "colab_type": "text"
      },
      "source": [
        "When you want to update rows in the table, the procedure is similar. Write a query and let the cursor execute it. The major difference in an update statement is that no values are returned. Try giving Laura Callahan a raise by setting her 'Title' to 'IT Manager'."
      ]
    },
    {
      "cell_type": "code",
      "metadata": {
        "id": "qHgxIK1CbbNA",
        "colab_type": "code",
        "colab": {}
      },
      "source": [
        "# Write some code here to update Laura Callahan's 'Title' to 'IT Manager'."
      ],
      "execution_count": 0,
      "outputs": []
    },
    {
      "cell_type": "markdown",
      "metadata": {
        "id": "eIlWytKdT6Ye",
        "colab_type": "text"
      },
      "source": [
        "In the examples above where rows are selected, rows are printed without showing the column names. The cursor holds these, fortunately. You can access them in the following way:"
      ]
    },
    {
      "cell_type": "code",
      "metadata": {
        "id": "hO75nyy7RY7p",
        "colab_type": "code",
        "colab": {}
      },
      "source": [
        "cursor.description"
      ],
      "execution_count": 0,
      "outputs": []
    },
    {
      "cell_type": "markdown",
      "metadata": {
        "id": "l62WYl-WU28k",
        "colab_type": "text"
      },
      "source": [
        "The odd format here (first item column name, rest of the fields equal to None) is caused by the sqlite Python package adhering to database standards. If you want a neat list of column names, some extra code is required. The sample below creates uses list comprehension ([x for x in y]) to generate a list of column names. If you want to know more about this, check out this article: https://towardsdatascience.com/python-basics-list-comprehensions-631278f22c40. It is not necessary for the rest of this course, but a very useful and slightly more advanced Python tool nonetheless."
      ]
    },
    {
      "cell_type": "code",
      "metadata": {
        "id": "03K0gW1iR3x7",
        "colab_type": "code",
        "outputId": "9ee4f4cb-ae5d-41e5-bab5-8846609cd3d0",
        "colab": {
          "base_uri": "https://localhost:8080/",
          "height": 34
        }
      },
      "source": [
        "column_names = [col[0] for col in cursor.description]\n",
        "print(column_names)"
      ],
      "execution_count": 0,
      "outputs": [
        {
          "output_type": "stream",
          "text": [
            "['EmployeeId', 'LastName', 'FirstName', 'Title', 'ReportsTo', 'BirthDate', 'HireDate', 'Address', 'City', 'State', 'Country', 'PostalCode', 'Phone', 'Fax', 'Email']\n"
          ],
          "name": "stdout"
        }
      ]
    },
    {
      "cell_type": "markdown",
      "metadata": {
        "id": "vPZ8IDEvVFvL",
        "colab_type": "text"
      },
      "source": [
        "To practice some Python skills, we can now try to work with our cursor and the list of column names that we have. There are multiple ways to only retrieve certain columns, some easier than others. Try selecting all employees from Calgary through writing a SQL query first."
      ]
    },
    {
      "cell_type": "code",
      "metadata": {
        "id": "V83LKjQlYnzb",
        "colab_type": "code",
        "colab": {}
      },
      "source": [
        "# Write some code that prints the name of the employee for all rows from the employees table for employees living in Calgary\n"
      ],
      "execution_count": 0,
      "outputs": []
    },
    {
      "cell_type": "markdown",
      "metadata": {
        "id": "zqhFMU5QY2kJ",
        "colab_type": "text"
      },
      "source": [
        "Now try to do the same, but select all rows through SQL and filter them afterwards. Depending on your Python skill level, asking for some pointers is allowed :-)"
      ]
    },
    {
      "cell_type": "code",
      "metadata": {
        "id": "B06dn6YPZFzp",
        "colab_type": "code",
        "colab": {}
      },
      "source": [
        "# Write some code that selects all rows from the employees table, and prints only the name of those employees living in Calgary\n"
      ],
      "execution_count": 0,
      "outputs": []
    },
    {
      "cell_type": "markdown",
      "metadata": {
        "id": "sMFcmoFitZ30",
        "colab_type": "text"
      },
      "source": [
        "Inserting data into a table is slightly less straightforward than selecting or updating information. It requires some knowledge about the way your data is structured. Below is shown an example of how to insert a row into the employees table."
      ]
    },
    {
      "cell_type": "code",
      "metadata": {
        "id": "eQvncpHcwWHJ",
        "colab_type": "code",
        "colab": {}
      },
      "source": [
        "data_to_insert = (9, 'Adrian', 'Flame', 'Data Scientist', None, '1958-03-17 00:00:00', '2005-03-14 00:00:00', '123 Training Street', \\\n",
        "                  'Callantsoog', 'NH', 'The Netherlands', '1014AB', '+1 (760) 428-7882', '+1 (770) 528-3217', 'adrian@chinookcorp.com')\n",
        "\n",
        "query = 'insert into employees values (?, ?, ?, ?, ?, ?, ?, ?, ?, ?, ?, ?, ?, ?, ?)'\n",
        "cursor.execute(query, data_to_insert)\n"
      ],
      "execution_count": 0,
      "outputs": []
    },
    {
      "cell_type": "markdown",
      "metadata": {
        "id": "JDGgXRwsxON3",
        "colab_type": "text"
      },
      "source": [
        "Take note on how the data to insert is formatted as a tuple. A tuple is a ordered and unmutable (unchangeable) collection of data and is written in round brackets, (). It works similarly to a list (written in square brackets, []) because you can access tuple items by their index. In this way, data_to_insert[2] will return 'Flame'. This notion is used to build a query with all values in the right place in the SQL query.\n",
        "\n",
        "In many cases we will want to insert more than one row. This can be done by using executemany() instead of execute(). The function takes a list of tuples as input and works similarly to the way we have just seen. Construct a list of two or more employee tuples and insert them into the employees table."
      ]
    },
    {
      "cell_type": "code",
      "metadata": {
        "id": "yIlfqro53rX5",
        "colab_type": "code",
        "colab": {}
      },
      "source": [
        "# Write some code that creates a list - [] - of tuples - () - and inserts them into the employees table using the executemany() function. \n",
        "employee1 = ()\n",
        "employee2 = ()\n",
        "employee_list = [employee1, employee2]\n",
        "query = ''\n",
        "cursor.executemany(query, employee_list)"
      ],
      "execution_count": 0,
      "outputs": []
    },
    {
      "cell_type": "markdown",
      "metadata": {
        "id": "hcEkqqmk48fl",
        "colab_type": "text"
      },
      "source": [
        "As you might have noticed, typing all of this information into the tuple list is quite labourious. For many purposes, you will want to generate these tuples algorithmically. Later parts of the training will show you how to do this, but for now knowing how to insert multiple records is enough."
      ]
    },
    {
      "cell_type": "code",
      "metadata": {
        "id": "wWMaRPXo41rO",
        "colab_type": "code",
        "colab": {}
      },
      "source": [
        "# Write some code to check the result of what you have added to the employee table.\n"
      ],
      "execution_count": 0,
      "outputs": []
    },
    {
      "cell_type": "markdown",
      "metadata": {
        "id": "omwBq_woZUvQ",
        "colab_type": "text"
      },
      "source": [
        "Congratulations, you have finished this part of the training. You are now able to connect to databases and interact with them in Python. Two things: commit your work to make your users happy, and close your connection to make your database administrators happy!"
      ]
    },
    {
      "cell_type": "code",
      "metadata": {
        "id": "4PvD39w8SKXZ",
        "colab_type": "code",
        "colab": {}
      },
      "source": [
        "db.commit()\n",
        "db.close()"
      ],
      "execution_count": 0,
      "outputs": []
    }
  ]
}